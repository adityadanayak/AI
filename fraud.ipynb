{
 "cells": [
  {
   "cell_type": "code",
   "execution_count": 1,
   "id": "03acacdb",
   "metadata": {
    "_cell_guid": "b1076dfc-b9ad-4769-8c92-a6c4dae69d19",
    "_uuid": "8f2839f25d086af736a60e9eeb907d3b93b6e0e5",
    "execution": {
     "iopub.execute_input": "2022-04-08T18:45:13.561722Z",
     "iopub.status.busy": "2022-04-08T18:45:13.560476Z",
     "iopub.status.idle": "2022-04-08T18:45:13.581998Z",
     "shell.execute_reply": "2022-04-08T18:45:13.581283Z",
     "shell.execute_reply.started": "2022-03-25T14:59:14.43886Z"
    },
    "papermill": {
     "duration": 0.034387,
     "end_time": "2022-04-08T18:45:13.582177",
     "exception": false,
     "start_time": "2022-04-08T18:45:13.547790",
     "status": "completed"
    },
    "tags": []
   },
   "outputs": [
    {
     "name": "stdout",
     "output_type": "stream",
     "text": [
      "/kaggle/input/fraudulent-transactions-data/Fraud.csv\n"
     ]
    }
   ],
   "source": [
    "# This Python 3 environment comes with many helpful analytics libraries installed\n",
    "# It is defined by the kaggle/python Docker image: https://github.com/kaggle/docker-python\n",
    "# For example, here's several helpful packages to load\n",
    "\n",
    "import numpy as np # linear algebra\n",
    "import pandas as pd # data processing, CSV file I/O (e.g. pd.read_csv)\n",
    "\n",
    "# Input data files are available in the read-only \"../input/\" directory\n",
    "# For example, running this (by clicking run or pressing Shift+Enter) will list all files under the input directory\n",
    "\n",
    "import os\n",
    "for dirname, _, filenames in os.walk('/kaggle/input'):\n",
    "    for filename in filenames:\n",
    "        print(os.path.join(dirname, filename))\n",
    "\n",
    "# You can write up to 20GB to the current directory (/kaggle/working/) that gets preserved as output when you create a version using \"Save & Run All\" \n",
    "# You can also write temporary files to /kaggle/temp/, but they won't be saved outside of the current session"
   ]
  },
  {
   "cell_type": "code",
   "execution_count": 2,
   "id": "6e3c7c51",
   "metadata": {
    "execution": {
     "iopub.execute_input": "2022-04-08T18:45:13.602788Z",
     "iopub.status.busy": "2022-04-08T18:45:13.601769Z",
     "iopub.status.idle": "2022-04-08T18:45:36.900902Z",
     "shell.execute_reply": "2022-04-08T18:45:36.901449Z",
     "shell.execute_reply.started": "2022-03-25T14:59:14.461117Z"
    },
    "papermill": {
     "duration": 23.310778,
     "end_time": "2022-04-08T18:45:36.901631",
     "exception": false,
     "start_time": "2022-04-08T18:45:13.590853",
     "status": "completed"
    },
    "tags": []
   },
   "outputs": [
    {
     "name": "stdout",
     "output_type": "stream",
     "text": [
      "<class 'pandas.core.frame.DataFrame'>\n",
      "RangeIndex: 6362620 entries, 0 to 6362619\n",
      "Data columns (total 11 columns):\n",
      " #   Column          Dtype  \n",
      "---  ------          -----  \n",
      " 0   step            int64  \n",
      " 1   type            object \n",
      " 2   amount          float64\n",
      " 3   nameOrig        object \n",
      " 4   oldbalanceOrg   float64\n",
      " 5   newbalanceOrig  float64\n",
      " 6   nameDest        object \n",
      " 7   oldbalanceDest  float64\n",
      " 8   newbalanceDest  float64\n",
      " 9   isFraud         int64  \n",
      " 10  isFlaggedFraud  int64  \n",
      "dtypes: float64(5), int64(3), object(3)\n",
      "memory usage: 534.0+ MB\n"
     ]
    },
    {
     "data": {
      "text/html": [
       "<div>\n",
       "<style scoped>\n",
       "    .dataframe tbody tr th:only-of-type {\n",
       "        vertical-align: middle;\n",
       "    }\n",
       "\n",
       "    .dataframe tbody tr th {\n",
       "        vertical-align: top;\n",
       "    }\n",
       "\n",
       "    .dataframe thead th {\n",
       "        text-align: right;\n",
       "    }\n",
       "</style>\n",
       "<table border=\"1\" class=\"dataframe\">\n",
       "  <thead>\n",
       "    <tr style=\"text-align: right;\">\n",
       "      <th></th>\n",
       "      <th>step</th>\n",
       "      <th>type</th>\n",
       "      <th>amount</th>\n",
       "      <th>nameOrig</th>\n",
       "      <th>oldbalanceOrg</th>\n",
       "      <th>newbalanceOrig</th>\n",
       "      <th>nameDest</th>\n",
       "      <th>oldbalanceDest</th>\n",
       "      <th>newbalanceDest</th>\n",
       "      <th>isFraud</th>\n",
       "      <th>isFlaggedFraud</th>\n",
       "    </tr>\n",
       "  </thead>\n",
       "  <tbody>\n",
       "    <tr>\n",
       "      <th>0</th>\n",
       "      <td>1</td>\n",
       "      <td>PAYMENT</td>\n",
       "      <td>9839.64</td>\n",
       "      <td>C1231006815</td>\n",
       "      <td>170136.0</td>\n",
       "      <td>160296.36</td>\n",
       "      <td>M1979787155</td>\n",
       "      <td>0.0</td>\n",
       "      <td>0.0</td>\n",
       "      <td>0</td>\n",
       "      <td>0</td>\n",
       "    </tr>\n",
       "    <tr>\n",
       "      <th>1</th>\n",
       "      <td>1</td>\n",
       "      <td>PAYMENT</td>\n",
       "      <td>1864.28</td>\n",
       "      <td>C1666544295</td>\n",
       "      <td>21249.0</td>\n",
       "      <td>19384.72</td>\n",
       "      <td>M2044282225</td>\n",
       "      <td>0.0</td>\n",
       "      <td>0.0</td>\n",
       "      <td>0</td>\n",
       "      <td>0</td>\n",
       "    </tr>\n",
       "    <tr>\n",
       "      <th>2</th>\n",
       "      <td>1</td>\n",
       "      <td>TRANSFER</td>\n",
       "      <td>181.00</td>\n",
       "      <td>C1305486145</td>\n",
       "      <td>181.0</td>\n",
       "      <td>0.00</td>\n",
       "      <td>C553264065</td>\n",
       "      <td>0.0</td>\n",
       "      <td>0.0</td>\n",
       "      <td>1</td>\n",
       "      <td>0</td>\n",
       "    </tr>\n",
       "    <tr>\n",
       "      <th>3</th>\n",
       "      <td>1</td>\n",
       "      <td>CASH_OUT</td>\n",
       "      <td>181.00</td>\n",
       "      <td>C840083671</td>\n",
       "      <td>181.0</td>\n",
       "      <td>0.00</td>\n",
       "      <td>C38997010</td>\n",
       "      <td>21182.0</td>\n",
       "      <td>0.0</td>\n",
       "      <td>1</td>\n",
       "      <td>0</td>\n",
       "    </tr>\n",
       "    <tr>\n",
       "      <th>4</th>\n",
       "      <td>1</td>\n",
       "      <td>PAYMENT</td>\n",
       "      <td>11668.14</td>\n",
       "      <td>C2048537720</td>\n",
       "      <td>41554.0</td>\n",
       "      <td>29885.86</td>\n",
       "      <td>M1230701703</td>\n",
       "      <td>0.0</td>\n",
       "      <td>0.0</td>\n",
       "      <td>0</td>\n",
       "      <td>0</td>\n",
       "    </tr>\n",
       "  </tbody>\n",
       "</table>\n",
       "</div>"
      ],
      "text/plain": [
       "   step      type    amount     nameOrig  oldbalanceOrg  newbalanceOrig  \\\n",
       "0     1   PAYMENT   9839.64  C1231006815       170136.0       160296.36   \n",
       "1     1   PAYMENT   1864.28  C1666544295        21249.0        19384.72   \n",
       "2     1  TRANSFER    181.00  C1305486145          181.0            0.00   \n",
       "3     1  CASH_OUT    181.00   C840083671          181.0            0.00   \n",
       "4     1   PAYMENT  11668.14  C2048537720        41554.0        29885.86   \n",
       "\n",
       "      nameDest  oldbalanceDest  newbalanceDest  isFraud  isFlaggedFraud  \n",
       "0  M1979787155             0.0             0.0        0               0  \n",
       "1  M2044282225             0.0             0.0        0               0  \n",
       "2   C553264065             0.0             0.0        1               0  \n",
       "3    C38997010         21182.0             0.0        1               0  \n",
       "4  M1230701703             0.0             0.0        0               0  "
      ]
     },
     "execution_count": 2,
     "metadata": {},
     "output_type": "execute_result"
    }
   ],
   "source": [
    "from sklearn.model_selection import train_test_split\n",
    "from sklearn.neighbors import KNeighborsClassifier as KNN\n",
    "pd.plotting.register_matplotlib_converters()\n",
    "import matplotlib.pyplot as plt\n",
    "import seaborn as sns\n",
    "%matplotlib inline\n",
    "data=pd.read_csv(\"../input/fraudulent-transactions-data/Fraud.csv\")\n",
    "train,test=train_test_split(data,train_size=0.6,shuffle=False)\n",
    "ytr=test.iloc[:,[9,10]]\n",
    "yt=train.iloc[:,[9,10]]\n",
    "data.info()\n",
    "data.head()\n"
   ]
  },
  {
   "cell_type": "code",
   "execution_count": 3,
   "id": "2cfbe57c",
   "metadata": {
    "execution": {
     "iopub.execute_input": "2022-04-08T18:45:36.929249Z",
     "iopub.status.busy": "2022-04-08T18:45:36.928546Z",
     "iopub.status.idle": "2022-04-08T18:45:44.921108Z",
     "shell.execute_reply": "2022-04-08T18:45:44.921979Z",
     "shell.execute_reply.started": "2022-03-25T14:59:25.103493Z"
    },
    "papermill": {
     "duration": 8.01186,
     "end_time": "2022-04-08T18:45:44.922904",
     "exception": false,
     "start_time": "2022-04-08T18:45:36.911044",
     "status": "completed"
    },
    "tags": []
   },
   "outputs": [
    {
     "name": "stdout",
     "output_type": "stream",
     "text": [
      "         isFraud  isFlaggedFraud\n",
      "0              0               0\n",
      "1              0               0\n",
      "2              1               0\n",
      "3              1               0\n",
      "4              0               0\n",
      "...          ...             ...\n",
      "3817567        0               0\n",
      "3817568        0               0\n",
      "3817569        0               0\n",
      "3817570        0               0\n",
      "3817571        0               0\n",
      "\n",
      "[3817572 rows x 2 columns]\n"
     ]
    },
    {
     "data": {
      "image/png": "[encoded data removed]",
      "text/plain": [
       "<Figure size 1080x1080 with 2 Axes>"
      ]
     },
     "metadata": {
      "needs_background": "light"
     },
     "output_type": "display_data"
    }
   ],
   "source": [
    "corr=data.corr()\n",
    "print(yt)\n",
    "plt.figure(figsize=(15,15))\n",
    "sns.heatmap(corr,annot=True)\n",
    "model=KNN(n_neighbors=10)\n",
    "\n",
    "t={'PAYMENT':1,'TRANSFER':2,'CASH_OUT':3,'CASH_IN':4,\"DEBIT\":5}\n",
    "train.type=[t[item] for item in train.type]\n",
    "test.type=[t[item] for item in test.type]\n",
    "train=train.drop(columns=[\"isFraud\",\"isFlaggedFraud\",\"nameOrig\",\"nameDest\"])\n",
    "test=test.drop(columns=[\"isFraud\",\"isFlaggedFraud\",\"nameOrig\",\"nameDest\"])\n",
    "y=[]"
   ]
  },
  {
   "cell_type": "code",
   "execution_count": 4,
   "id": "1a72e5b0",
   "metadata": {
    "execution": {
     "iopub.execute_input": "2022-04-08T18:45:44.961862Z",
     "iopub.status.busy": "2022-04-08T18:45:44.960912Z",
     "iopub.status.idle": "2022-04-08T18:52:14.887891Z",
     "shell.execute_reply": "2022-04-08T18:52:14.888507Z",
     "shell.execute_reply.started": "2022-03-25T14:59:32.077006Z"
    },
    "papermill": {
     "duration": 389.950416,
     "end_time": "2022-04-08T18:52:14.888869",
     "exception": false,
     "start_time": "2022-04-08T18:45:44.938453",
     "status": "completed"
    },
    "tags": []
   },
   "outputs": [
    {
     "name": "stdout",
     "output_type": "stream",
     "text": [
      "[[0 0]\n",
      " [0 0]\n",
      " [0 0]\n",
      " ...\n",
      " [1 0]\n",
      " [1 0]\n",
      " [0 0]]\n",
      "         isFraud  isFlaggedFraud\n",
      "3817572        0               0\n",
      "3817573        0               0\n",
      "3817574        0               0\n",
      "3817575        0               0\n",
      "3817576        0               0\n",
      "...          ...             ...\n",
      "6362615        1               0\n",
      "6362616        1               0\n",
      "6362617        1               0\n",
      "6362618        1               0\n",
      "6362619        1               0\n",
      "\n",
      "[2545048 rows x 2 columns]\n"
     ]
    }
   ],
   "source": [
    "model.fit(train,yt)\n",
    "y=model.predict(test)\n",
    "print(y)\n",
    "print(ytr)"
   ]
  },
  {
   "cell_type": "code",
   "execution_count": 5,
   "id": "f2861249",
   "metadata": {
    "execution": {
     "iopub.execute_input": "2022-04-08T18:52:14.921883Z",
     "iopub.status.busy": "2022-04-08T18:52:14.921106Z",
     "iopub.status.idle": "2022-04-08T18:52:15.238465Z",
     "shell.execute_reply": "2022-04-08T18:52:15.238975Z",
     "shell.execute_reply.started": "2022-03-25T15:08:38.680733Z"
    },
    "papermill": {
     "duration": 0.338411,
     "end_time": "2022-04-08T18:52:15.239145",
     "exception": false,
     "start_time": "2022-04-08T18:52:14.900734",
     "status": "completed"
    },
    "tags": []
   },
   "outputs": [
    {
     "data": {
      "text/plain": [
       "0.999163080617733"
      ]
     },
     "execution_count": 5,
     "metadata": {},
     "output_type": "execute_result"
    }
   ],
   "source": [
    "from sklearn.metrics import accuracy_score as a\n",
    "a(ytr,y)"
   ]
  },
  {
   "cell_type": "code",
   "execution_count": null,
   "id": "d79d6def",
   "metadata": {
    "papermill": {
     "duration": 0.011796,
     "end_time": "2022-04-08T18:52:15.263065",
     "exception": false,
     "start_time": "2022-04-08T18:52:15.251269",
     "status": "completed"
    },
    "tags": []
   },
   "outputs": [],
   "source": []
  }
 ],
 "metadata": {
  "kernelspec": {
   "display_name": "Python 3",
   "language": "python",
   "name": "python3"
  },
  "language_info": {
   "codemirror_mode": {
    "name": "ipython",
    "version": 3
   },
   "file_extension": ".py",
   "mimetype": "text/x-python",
   "name": "python",
   "nbconvert_exporter": "python",
   "pygments_lexer": "ipython3",
   "version": "3.7.12"
  },
  "papermill": {
   "default_parameters": {},
   "duration": 433.115054,
   "end_time": "2022-04-08T18:52:16.791468",
   "environment_variables": {},
   "exception": null,
   "input_path": "__notebook__.ipynb",
   "output_path": "__notebook__.ipynb",
   "parameters": {},
   "start_time": "2022-04-08T18:45:03.676414",
   "version": "2.3.3"
  }
 },
 "nbformat": 4,
 "nbformat_minor": 5
}
